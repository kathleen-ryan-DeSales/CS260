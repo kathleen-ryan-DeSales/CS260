{
 "cells": [
  {
   "cell_type": "markdown",
   "id": "de8a0dcb-eaad-4410-b53c-382c2a794051",
   "metadata": {},
   "source": [
    "# EPADEL Database\n",
    "\n",
    "---\n",
    "\n",
    "## BACKGROUND\n",
    "\n",
    "This database involves an organization called EPaDel (Eastern PA and Delaware) which is a local section of the Mathematical Association of America. \n",
    "\n",
    "There are many colleges/universities within the boundaries of EPaDel.  There are also many members/persons in EPaDel.  Most members are professors/students at colleges/universities,  BUT some members of EPaDel are high school students/teachers and some are professionals working in industry.\n",
    "\n",
    "Every spring and every fall semester, EPaDel hosts a meeting for its members.\n",
    "\n",
    "There are 3 main tables you will need for this exam:  \n",
    "\n",
    "* persons (Details the members of EPaDel)\n",
    "    * Again, most members, but not all, are professors/students and are thus affiliated with a school.  \n",
    "* schools (Details the schools in the EPaDel Section)\n",
    "* meeting_attendance (Details which persons attended which meetings)\n"
   ]
  },
  {
   "cell_type": "markdown",
   "id": "ec7bfe4a-45fa-4e70-94fd-ba9c6a1465f9",
   "metadata": {},
   "source": [
    "## Visualization of the DB Schema\n",
    "\n",
    "The following database diagram illustrates the EPaDel database tables and their relationships.  \n",
    "\n",
    "![EPaDel Database](https://raw.githubusercontent.com/kathleen-ryan-DeSales/CS260/main/other/epadel_tables.PNG)"
   ]
  },
  {
   "cell_type": "markdown",
   "id": "9aaff581-d00c-4130-b383-0853b211a4a6",
   "metadata": {},
   "source": [
    "\n",
    "## THE PERSONS TABLE\n",
    "\n",
    "The persons table gives the following information for each member.  Notice which values are null are not.\n",
    "\n",
    "* email:\n",
    "  - The member's email.\n",
    "* first_name\n",
    "* last name\n",
    "* affiliation:\n",
    "  - If the member is a professor/student of EPaDel, this will be the member's school, which will appear in the schools table. \n",
    "  - Otherwise, if the person works in industry, it could be their company.\n",
    "  - If unknown, it will be NULL.\n",
    "  - Since most people are faculty/students, the affiliation is \"almost\" a foreign key into the schools table.\n",
    "* gender:\n",
    "  - M\n",
    "  - F\n",
    "  - NULL - If unknown/unreported\n",
    "* roles:  \n",
    "  - F - Faculty\n",
    "  - US - Undergraduate Student\n",
    "  - GS - Graduate Student\n",
    "  - HS - High School Student\n",
    "  - HT - High School Teacher\n",
    "  - OM - Other Member\n",
    "  - NULL - if unknown"
   ]
  },
  {
   "cell_type": "markdown",
   "id": "cfb304fd-7a3a-4071-95ed-23f4e819174c",
   "metadata": {},
   "source": [
    "---\n",
    "## THE SCHOOLS TABLE\n",
    "\n",
    "**NOTE: NO columns in the school table have NULL values in any row.**\n",
    "\n",
    "The schools table tells you the following information for each school (so each university/college) within EPaDel's borders:\n",
    "\n",
    "* school_name: the name of the school\n",
    "* dept_name: the formal name of its math department\n",
    "* street\n",
    "* city\n",
    "* state\n",
    "* zip\n",
    "* distance_to_upenn: the school's distance to University of Pennsylvania (miles) \n",
    "* highest_degree_offered - The highest degree that the math department offers offers which will be:\n",
    "  - Associates:  A 2 year degree \n",
    "  - Baccalaureate:  A baccalaureate degree is the same as a bachelors degree (4 year degree)\n",
    "  - Masters: A graduate degree\n",
    "  - Doctoral:  The highest graduate degree (PhD)\n",
    "* is_community: if it is a community college \n",
    "  - No - 0\n",
    "  - Yes - 1 \n",
    "* is_private\n",
    "  - No - 0\n",
    "  - Yes - 1 \n",
    "\n"
   ]
  },
  {
   "cell_type": "markdown",
   "id": "da6f9e48-e79c-40a8-96c6-364717d83dfa",
   "metadata": {},
   "source": [
    "---\n",
    "\n",
    "## THE MEETING_ATTENDANCE TABLE\n",
    "\n",
    "The meeting_attendance table tells you about which persons in EPaDel attended which meetings. \n",
    "\n",
    "Specifically, it gives the following information for each attendee. \n",
    "\n",
    "* meeting_id \n",
    "  - The meeting IDs look like SPRING2019 or FALL2019, so the word \"SPRING\" or \"FALL\" followed by a 4 digit year.\n",
    "* email \n",
    "  - The email of the attendee.  Every attendee appears in the persons table.\n",
    "* gave_talk:  if a person gave a talk at the meeting\n",
    "  - 1: the person gave a talk\n",
    "  - 0: the person did not give a talk\n",
    "* bought_lunch: if the person bought a lunch ticket for the meeting\n",
    "  - 1: bought a lunch ticket\n",
    "  - 0: did not buy a lunch ticket\n",
    "  - NULL:  if unknown\n",
    "* total_paid:  how much the attendee paid to come to the meeting. (Aside: different factors play into how much each person pays.)\n",
    "  - NULL: if unknown"
   ]
  }
 ],
 "metadata": {
  "kernelspec": {
   "display_name": "Python 3 (ipykernel)",
   "language": "python",
   "name": "python3"
  },
  "language_info": {
   "codemirror_mode": {
    "name": "ipython",
    "version": 3
   },
   "file_extension": ".py",
   "mimetype": "text/x-python",
   "name": "python",
   "nbconvert_exporter": "python",
   "pygments_lexer": "ipython3",
   "version": "3.9.12"
  }
 },
 "nbformat": 4,
 "nbformat_minor": 5
}
