{
 "cells": [
  {
   "cell_type": "markdown",
   "id": "5a821f4a-6bca-4e95-91cc-13a956f598f0",
   "metadata": {
    "tags": []
   },
   "source": [
    "# EPADEL Database\n",
    "\n",
    "---\n",
    "\n",
    "## BACKGROUND\n",
    "\n",
    "This database involves an organization called EPaDel (Eastern PA and Delaware) which is a local section of the Mathematical Association of America. \n",
    "\n",
    "There are many colleges/universities within the boundaries of EPaDel.  There are also many members/persons in EPaDel.  Most members are professors/students at colleges/universities,  BUT some members of EPaDel are high school students/teachers too.\n",
    "\n",
    "Every spring and every fall semester, EPaDel hosts a meeting for its members.\n",
    "\n",
    "There are 3 main tables you will need for this exam:  \n",
    "\n",
    "* schools (Details the schools in the EPaDel Section)\n",
    "* persons (Details the members of EPaDel)\n",
    "    * This table includes all members of the EPaDel section as well as those from other sections who have visited an EPaDel meeting.  The visitors will not have a school listed in the schools table. \n",
    "* meeting_attendance (Details which persons attended which meetings)\n"
   ]
  },
  {
   "cell_type": "markdown",
   "id": "df8c21cf-22d7-434e-a32f-4303079d72a3",
   "metadata": {},
   "source": [
    "## Visualization of the DB Schema\n",
    "\n",
    "The following database diagram illustrates the EPaDel database tables and their relationships.  \n",
    "\n",
    "![EPaDel Database](https://raw.githubusercontent.com/kathleen-ryan-DeSales/CS260/main/other/epadel_tables.PNG)"
   ]
  },
  {
   "cell_type": "markdown",
   "id": "038edf83-b658-4f2d-a2e3-16dc6857a3c6",
   "metadata": {
    "jp-MarkdownHeadingCollapsed": true,
    "tags": []
   },
   "source": [
    "\n",
    "## THE PERSONS TABLE\n",
    "\n",
    "The persons table gives the following information for each member.  Notice which values are null are not.\n",
    "\n",
    "* email:\n",
    "  - The member's email.\n",
    "* first_name\n",
    "* last name\n",
    "* affiliation:\n",
    "  - This will be the school associated with the person/member.\n",
    "  - If the affiliation is unknown/unreported, it will be NULL.\n",
    "  - Note that there are a few records in the persons table who are not truly members of EPaDel.  These would be people who visited an EPaDel meeting from another section. Their affiliation will be their  school or company, but for these visitors, their affiliation will not be in the schools table.  This is why the affiliation is \"almost\" a foreign key into the schools table.  **There is exactly ONE question on this test where you have to worry about this technicality.  Otherwise, just assume that perons and members are synonyms.**\n",
    "* gender:\n",
    "  - M\n",
    "  - F\n",
    "  - NULL - If unknown/unreported\n",
    "* roles:  \n",
    "  - F - Faculty (at a college or university)\n",
    "  - US - Undergraduate Student\n",
    "  - GS - Graduate Student\n",
    "  - HS - High School Student\n",
    "  - HT - High School Teacher\n",
    "  - OM - Other Member\n",
    "  - NULL - if unknown"
   ]
  },
  {
   "cell_type": "markdown",
   "id": "cc17e2eb-2600-4006-8979-ceabc37b982e",
   "metadata": {},
   "source": [
    "---\n",
    "## THE SCHOOLS TABLE\n",
    "\n",
    "**NOTE: NO columns in the school table have NULL values in any row.**\n",
    "\n",
    "The schools table tells you the following information for each school (so each university/college) within EPaDel's borders:\n",
    "\n",
    "* school_name: the name of the school\n",
    "* dept_name: the formal name of its math department\n",
    "* street\n",
    "* city\n",
    "* state\n",
    "* zip\n",
    "* distance_to_upenn: the school's distance to University of Pennsylvania (miles) \n",
    "* highest_degree_offered - The highest degree that the math department offers offers which will be:\n",
    "  - Associates:  A 2 year degree \n",
    "  - Baccalaureate:  A baccalaureate degree is the same as a bachelors degree (4 year degree)\n",
    "  - Masters: A graduate degree\n",
    "  - Doctoral:  The highest graduate degree (PhD)\n",
    "* is_community: if it is a community college \n",
    "  - No - 0\n",
    "  - Yes - 1 \n",
    "* is_private\n",
    "  - No - 0\n",
    "  - Yes - 1 \n",
    "\n"
   ]
  },
  {
   "cell_type": "markdown",
   "id": "30bdf034-8e66-4e83-b566-bafe572ac5fa",
   "metadata": {},
   "source": [
    "---\n",
    "\n",
    "## THE MEETING_ATTENDANCE TABLE\n",
    "\n",
    "The meeting_attendance table tells you about which persons in EPaDel attended which meetings. To be clear, a person in the persons table may have gone to 0/1/multiple meetings.\n",
    "\n",
    "Specifically, it gives the following information for each attendee. \n",
    "\n",
    "* meeting_id \n",
    "  - The meeting IDs look like SPRING2019 or FALL2019, so the word \"SPRING\" or \"FALL\" followed by a 4 digit year.\n",
    "* email \n",
    "  - The email of the attendee.  Every attendee appears in the persons table.\n",
    "* gave_talk:  if a person gave a talk at the meeting\n",
    "  - 1: the person gave a talk\n",
    "  - 0: the person did not give a talk  (so they just attended the meeting but did not speak at it)\n",
    "* bought_lunch: if the person bought a lunch ticket for the meeting\n",
    "  - 1: bought a lunch ticket\n",
    "  - 0: did not buy a lunch ticket\n",
    "  - NULL:  if unknown\n",
    "* total_paid:  how much the attendee paid to come to the meeting. (Aside: different factors play into how much each person pays.)\n",
    "  - NULL: if unknown"
   ]
  }
 ],
 "metadata": {
  "kernelspec": {
   "display_name": "Python 3 (ipykernel)",
   "language": "python",
   "name": "python3"
  },
  "language_info": {
   "codemirror_mode": {
    "name": "ipython",
    "version": 3
   },
   "file_extension": ".py",
   "mimetype": "text/x-python",
   "name": "python",
   "nbconvert_exporter": "python",
   "pygments_lexer": "ipython3",
   "version": "3.9.12"
  }
 },
 "nbformat": 4,
 "nbformat_minor": 5
}
