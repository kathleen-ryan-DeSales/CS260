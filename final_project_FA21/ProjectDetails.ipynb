{
 "cells": [
  {
   "cell_type": "markdown",
   "metadata": {},
   "source": [
    "## Project Overview\n",
    "\n",
    "Pick a dataset, any dataset…\n",
    "\n",
    "…and tell me a story using visualizations and the techniques we've used this semester.\n",
    "\n",
    "That is your final project in a nutshell. More details below."
   ]
  },
  {
   "cell_type": "markdown",
   "metadata": {},
   "source": [
    "---\n",
    "\n",
    "## A. Project Goal\n",
    "\n",
    "The final project for this class will invovle an analysis on a dataset of your team's own choosing. You can choose the data based on your interests or based on work in other courses or research projects. The intent of this project is for you to demonstrate proficiency in the techniques we have covered in this class (and beyond, if you like) and apply them to a novel dataset in a meaningful way.\n",
    "\n",
    "Your main goal is to prove to me that:\n",
    "* you are proficient at asking meaningful questions and answering them with the results of basic data analysis and visualization, \n",
    "* you are proficient in using Python, \n",
    "* you are proficient at interpreting results, and \n",
    "* you are able to tell a cohesive story when you present your results. \n",
    "\n",
    "The project is very open ended. You should create compelling visualizations of this data in Python and then interpret them. (You can even use statistical techniques or visualizations we haven’t officially covered in class, if you’re feeling adventurous.)  There is no limit on what tools or packages you may incorporate, but you must also incorporate packages we learned in class. You do not need to visualize all of the data at once. A handful of high quality visualizations that tell a compelling story will receive a much higher grade than a large number of poor quality visualizations that are unrelated to each other. Also pay attention to your presentation. Neatness, coherency, grammar, cohesiveness, and clarity will count. All analyses must be done in Jupyter Lab/Notebooks, using Python."
   ]
  },
  {
   "cell_type": "markdown",
   "metadata": {},
   "source": [
    "---\n",
    "\n",
    "## B. Data\n",
    "\n",
    "In order for you to have the greatest chance of success with this project it is important that you choose a manageable dataset. This means that the data should be readily accessible and large enough that multiple relationships can be explored. \n",
    "\n",
    "As such, your dataset must have at least 250 observations (so rows) and between 10 to 20 variables (exceptions can be made but you must speak with me first). The dataset’s variables should include a mix of:\n",
    "\n",
    "* categorical variables, \n",
    "* discrete numerical variables, and  \n",
    "* continuous numerical variables. \n",
    "\n",
    "Ideally, your data set should be in an excel file or a csv file or some type of table that can be converted to these files. If you are using a dataset that comes in a format that we haven’t encountered in class, make sure that you are able to load it into Ptyhon as this can be tricky depending on the source. If you are having trouble ask for help before it is too late.\n",
    "\n",
    "**Note on reusing datasets from class:** Do *not* reuse datasets used in examples, homework assignments, or labs in the class.\n",
    "\n",
    "Below are a list of data repositories that might be of interest to browse. You’re not limited to these resources, and in fact you’re encouraged to venture beyond them. But you might find something interesting there:"
   ]
  },
  {
   "cell_type": "markdown",
   "metadata": {},
   "source": [
    "<ul>\n",
    "<li><a href=\"https://www.statcrunch.com/datasets/shared\">Stat Crunch</a></li>\n",
    "<li><a href=\"https://github.com/rfordatascience/tidytuesday\">TidyTuesday</a></li>\n",
    "<li><a href=\"https://www.opendata.nhs.scot/\">NHS Scotland Open Data</a></li>\n",
    "<li><a href=\"https://edinburghopendata.info/\">Edinburgh Open Data</a></li>\n",
    "<li><a href=\"https://statistics.gov.scot/home\">Open access to Scotland’s official statistics</a></li>\n",
    "<li><a href=\"https://www.bikeshare.com/data/\">Bikeshare data portal</a></li>\n",
    "<li><a href=\"https://data.gov.uk/\">UK Gov Data</a></li>\n",
    "<li><a href=\"https://www.kaggle.com/datasets\">Kaggle datasets</a></li>\n",
    "<li><a href=\"http://openintrostat.github.io/openintro/\">OpenIntro datasets</a></li>\n",
    "<li><a href=\"https://worlddata.ai/\">World Data AI</a></li>\n",
    "<li><a href=\"https://github.com/awesomedata/awesome-public-datasets\">Awesome public datasets</a></li>\n",
    "<li><a href=\"https://chronicdata.cdc.gov/Youth-Risk-Behaviors/DASH-Youth-Risk-Behavior-Surveillance-System-YRBSS/q6p7-56au\">Youth Risk Behavior Surveillance System (YRBSS)</a></li>\n",
    "<li><a href=\"https://www.icpsr.umich.edu/icpsrweb/content/ICPSR/fenway.html\">PRISM Data Archive Project</a></li>\n",
    "<li><a href=\"https://dataverse.harvard.edu/\">Harvard Dataverse</a></li>\n",
    "<li>If you know of others, let me know, and we’ll add here…</li>\n",
    "</ul>"
   ]
  },
  {
   "cell_type": "markdown",
   "metadata": {},
   "source": [
    "Finally, some of your professors likely do research in areas that may be of interest to you.  This means that they may have datasets that they would like help analyzing.  If you wish to ask a professor if they would be willing to share a data set with you for this project, then please talk to me first.  **I repeat - do not contact your professors without first talking to me.**  I will reach out them to explain the scope of the project to them and then you may talk to them afterwards.  Note:  It is very likely that your professor may decline giving you data, so you should talk to him/her early.  "
   ]
  },
  {
   "cell_type": "markdown",
   "metadata": {},
   "source": [
    "## C. Deliverables\n",
    "\n",
    "1. Proposal - due [Friday Oct. 29 at 11:59 PM] \n",
    "1. Project Update 1: Initial Analysis/Descriptive Statistics - due [Fri Nov. 12 at 11:59 PM]\n",
    "1. \\*Project Update 2: Initial Report With Preview Video - due [Fri Dec. 3 at 11:59 PM] \n",
    "1. Preview Video Peer Feedback: due [Mon Dec. 6 at 11:59 PM] \n",
    "1. Final Report:  Due at 11:59 PM on the day of the final exam period.\n",
    "1. Presentation: During final exam period - Slides due at the start of class.\n",
    "\n",
    "\\**If you want to use Wed of Thanksgiving break to work on this, go for it.  It's your choice.  Just submit by Wed Nov. 24 at 11:59 PM.*"
   ]
  },
  {
   "cell_type": "markdown",
   "metadata": {},
   "source": [
    "---\n",
    "\n",
    "## D. Proposal\n",
    "\n",
    "This is a summary of your data as well as a list of questions you wish to address.  You will submit:\n",
    "\n",
    "* An ipynb file with any csv's that I need to run it  (See below for sections required by your ipynb)\n",
    "* A link to your team's google collaborate file\n",
    "* A partner review \n",
    "\n",
    "The ipynb must contain:\n",
    "\n",
    "* an Introduction Section and \n",
    "* a Data Section.\n",
    "\n",
    "**What to include in Section 1 - Introduction:** \n",
    "\n",
    "The introduction should explain the topic you plan to explore. \n",
    "\n",
    "There should be a main/overarching research question that you are trying to answer.  Here are some examples from last year.  Notice these questions are open ended and cannot be answered with just a few lines of code.\n",
    "* Did excitement for games grow after the NHL changed its rules in 2016?\n",
    "* What variables lead to higher graduation rates among private colleges?\n",
    "* Which variables contribute to frequent rentals in Hawaii Air BnB's?\n",
    "* Are the salaries of female CEOs on par with those of their male counterparts in the USA?\n",
    "\n",
    "Then you must include at least 5 **mature** questions involving multiple variables (the features in the columns) from your data that could help you assess the answer to your question.  These questions should help you identify patterns and relationships amongst variables in the data.  Here are some examples:\n",
    "* Did team A perform better than team B in all factors, or just points scored?\n",
    "* Did the number of points scored before/after the 2016 rule changes increase/decrease?\n",
    "* Does the length of the Air BnB rental increase as price decreases?\n",
    "* **Do coastal Air Bnb's in Hawaii cost more than inland rentals?**\n",
    "* **Do the babies born of non-smoking mothers weigh more than those born of smoking mothers?**\n",
    "\n",
    "**NOTE:** At least two of your questions must compare **2 or more groups/catgegories** within your data set, like the 2 bolded above.\n",
    "\n",
    "He are examples of *non-mature* questions.  Yes, you may have to ask/answer these questions while performing your actual analysis, but they don't show relationships between variables and can be answered with just one line of code.\n",
    "* What was the total income made by company A last year?\n",
    "* What categories were possible in column XXX?\n",
    "\n",
    "**What to Include In Section 2 - Data:**  This section will explain your data:\n",
    "* the websites it came from, \n",
    "* how it was collected, \n",
    "* what the variables/columns are, etc.  \n",
    "\n",
    "In this section you will also load your data, showing the first several rows of the data in this section. The variables should be explained  in details in a bulleted list."
   ]
  },
  {
   "cell_type": "markdown",
   "metadata": {},
   "source": [
    "### Proposal Grading Schema\n",
    "\n",
    "The grading scheme for the project proposal is as follows. </p>"
   ]
  },
  {
   "cell_type": "markdown",
   "metadata": {},
   "source": [
    "<table style=\"width:99%;\">\n",
    "<colgroup>\n",
    "<col width=\"70%\" />\n",
    "<col width=\"30%\" />\n",
    "</colgroup>\n",
    "<thead>\n",
    "<tr class=\"header\">\n",
    "<th>Total*</th>\n",
    "<th>20 pts</th>\n",
    "</tr>\n",
    "</thead>\n",
    "<tbody>\n",
    "<tr class=\"odd\">\n",
    "<td>Data Section</td>\n",
    "<td>5 pts</td>\n",
    "</tr>\n",
    "<tr class=\"even\">\n",
    "<td>Introduction Section</td>\n",
    "<td>5 pts</td>\n",
    "</tr>\n",
    "    \n",
    "<tr class=\"odd\">\n",
    "<td>Maturity of Questions/Topic</td>\n",
    "<td>5 pts</td>\n",
    "</tr>\n",
    "<tr class=\"odd\">\n",
    "<td>Professionalism/Grammar</td>\n",
    "<td>4pts</td>\n",
    "</tr>\n",
    "<tr class=\"even\">\n",
    "<td>Teamwork</td>\n",
    "<td>1 pt</td>\n",
    "</tr>\n",
    "</tbody>\n",
    "</table>"
   ]
  },
  {
   "cell_type": "markdown",
   "metadata": {},
   "source": [
    "<em>\\*If it becomes clear that you have contributed little to nothing to the project, then you may not recieve the same score as your teammates.</em>"
   ]
  },
  {
   "cell_type": "markdown",
   "metadata": {},
   "source": [
    "---\n",
    "\n",
    "## E. Project Update 1: \n",
    "## Initial Analysis/Descriptive Statistics"
   ]
  },
  {
   "cell_type": "markdown",
   "metadata": {},
   "source": [
    "This is an update showing me you are making progress.  You will submit:\n",
    "\n",
    "* An ipynb file with any csv's that I need to run it  (See below for sections required by your ipynb)\n",
    "* A link to your team's google collaborate file\n",
    "* A partner review \n",
    "\n",
    "\n",
    "For the project update, your goal is to prove to me that you have begun performing your initial data analysis.  It should be clear that you are attempting to answer the questions that you posed in your proposal and that you gaining support for/against certain hypotheses as you make them. It should also be clear that you are discovering new results and applying new techniques (transforming columns via functions, including new visualizations, etc.)\n",
    "\n",
    "**DIRECTIONS:** First, update Sections 1-2 of your proposal dcoument per my feedback. Then begin adding content to the 3rd section in your ipynb file. \n",
    "    \n",
    "**Section 3 - Initial Analysis**\n",
    "    \n",
    "In Section 1, you offered questions you wished to consider. In this section, try to answer these questions with descriptive statistics and visualizations.  Include at least 5 visualizations that tell a compelling story about your data set.  \n",
    "\n",
    "You must explain what you learn from these statistics/visualization.  So after every code cell with statistic or a visualziation, there should be markdown cell explaining what you learned from the previous code cell.\n",
    "\n",
    "**Before submitting**, reread Section 1 and decide if you need to make any updates.  Perhaps your discussions with me have led you to spin off in a new direction.  Therefore, you may have different/more questions to add to your list.  On the otherhand, perhaps via our discussions, you've tweaked your initial/overarching theme as well.  In that case, please update that."
   ]
  },
  {
   "cell_type": "markdown",
   "metadata": {},
   "source": [
    "The grading scheme for the project update is as follows. "
   ]
  },
  {
   "cell_type": "markdown",
   "metadata": {},
   "source": [
    "<table style=\"width:99%;\">\n",
    "<colgroup>\n",
    "<col width=\"80%\" />\n",
    "<col width=\"20%\" />\n",
    "</colgroup>\n",
    "<thead>\n",
    "<tr class=\"header\">\n",
    "<th>Total</th>\n",
    "<th align = \"center\">30 pts</th>\n",
    "</tr>\n",
    "</thead>\n",
    "<tbody>\n",
    "<tr class=\"odd\">\n",
    "<td>Visualizations/Procedures:  The team has clearly made progress since the proposal and is manipulating data in a way that suggests they are asking sound questions and not just throwing visualizations together for the update.</td>\n",
    "<td align = \"center\">15 pts</td>\n",
    "</tr>\n",
    "<tr class=\"even\">\n",
    "<td>Relevancy:  The team is asking questions relevant to initial questions asked, or has discovered a new interesting path that warrants deviating from their initial analysis plan.</td>\n",
    "<td align = \"center\">5 pts</td>\n",
    "</tr>\n",
    "<tr class=\"odd\">\n",
    "<td>Maturity of Interpretations/Explanation of Intermediate Results.</td>\n",
    "<td align = \"center\">5 pts</td>\n",
    "</tr>\n",
    "<tr class=\"even\">\n",
    "<td>Professionalism/Grammar</td>\n",
    "<td align = \"center\">5 pts</td>\n",
    "</tr>\n",
    "\n",
    "</tbody>\n",
    "</table>"
   ]
  },
  {
   "cell_type": "markdown",
   "metadata": {},
   "source": [
    "---\n",
    "\n",
    "## F. Project Update 2: \n",
    "\n",
    "## Initial Report With Preview Video\n",
    "\n",
    "Details to come, but basically, you are cleaning up your results and starting to create a final report with actual findings/conclusions.  Additionally, you are incorporating a video for your peers to watch and to ask questions/offer suggestions."
   ]
  },
  {
   "cell_type": "markdown",
   "metadata": {},
   "source": [
    "<!--## F. Presentation-->"
   ]
  },
  {
   "cell_type": "markdown",
   "metadata": {},
   "source": [
    "<!-- The presentation should last 4-5 minutes, with points taken off for speaking too long or too short, and each team member should say something substantial and speak for a decent amount of time.\n",
    "\n",
    "There isn't a limit to how many slides you can use, just a time limit (4-5 minutes total).\n",
    "\n",
    "Your presentation should not just be an account of everything you tried (\"then we did this, then we did this, etc.\"), instead it should convey what choices you made, and why, and what you found.\n",
    "\n",
    "Presentations will take place during 2 class periods \n",
    "You can choose to do your presentation live or pre-record it.\n",
    "During the presentations, you will provide feedback in the form of peer evaluations.\n",
    "The presentation line-up will be generated randomly.\n",
    "\n",
    "The grading scheme for the presentation is as follows:\n",
    "-->"
   ]
  },
  {
   "cell_type": "markdown",
   "metadata": {},
   "source": [
    "<!--<table style=\"width:99%;\">\n",
    "<colgroup>\n",
    "<col width=\"70%\" />\n",
    "<col width=\"30%\" />\n",
    "</colgroup>\n",
    "<thead>\n",
    "<tr class=\"header\">\n",
    "<th>Total</th>\n",
    "<th align=\"left\">55 pts</th>\n",
    "</tr>\n",
    "</thead>\n",
    "<tbody>\n",
    "<tr class=\"odd\">\n",
    "<td>Time management: Did the team divide the time well amongst themselves? Did they get cut off going over time?</td>\n",
    "<td>4 pts</td>\n",
    "</tr>\n",
    "<tr class=\"even\">\n",
    "<td>Teamwork: Did the team present a unified story, or did it seem like independent pieces of work patched together?</td>\n",
    "<td>6 pts  </td>\n",
    "</tr>\n",
    "<tr class=\"odd\">\n",
    "<td>Content: Is the research question well designed and is the data being used relevant to the research question?</td>\n",
    "<td>5 pts</td>\n",
    "</tr>\n",
    "<tr class=\"even\">\n",
    "<td>Professionalism: How well did the team present? Does the presentation appear to be well practiced? Did everyone get a chance to say something meaningful about the project?\n",
    "</td>\n",
    "<td>5 pts</td>\n",
    "</tr>\n",
    "<tr class=\"odd\">\n",
    "<td>Content: Did the team use appropriate statistical procedures and interpretations of results accurately?</td>\n",
    "<td>10 pts  </td>\n",
    "</tr>\n",
    "<tr class=\"even\">\n",
    "<td>Creativity and Critical Thought: Is the project carefully thought out? Are the limitations carefully considered? Does it appear that time and effort went into the planning and implementation of the project?</td>\n",
    "<td>10 pts  </td>\n",
    "</tr>\n",
    "<tr class=\"odd\">\n",
    "<td>Slides: Are the slides well organized, readable, not full of text, featuring figures with legible labels, legends, etc.?</td>\n",
    "<td>10 pts  </td>\n",
    "</tr>\n",
    "<tr class=\"even\">\n",
    "<td>Feedback to peers: Did the team give meaningful feedback to their peers?</td>\n",
    "<td>5 pts  </td>\n",
    "</tr>\n",
    "</tbody>\n",
    "</table>--!>"
   ]
  },
  {
   "cell_type": "markdown",
   "metadata": {},
   "source": [
    "<!--## G. Executive Summary!-->"
   ]
  },
  {
   "cell_type": "markdown",
   "metadata": {},
   "source": [
    "<!--Note: Some of you may have been told to incorporate X or Y after your final presentation.  The executive summary should reflect that.\n",
    "\n",
    "The executive summary is meant to be a concise summary of your project.  The audience is someone who has never heard about your topic or results before.  Whereas your previous submissions included what you intend/hope/are trying to do, this summary is meant to describe what you have done and what your best results were.  It should be an entirely new ipynb file, separate from your previous submissions, but you likely will likely start it by copying and pasting material from within your other submissions thus far.  It should have the following sections.  \n",
    "\n",
    "<ul>\n",
    "<li><p><strong>Section 1 - Introduction:</strong> The introduction should be a revised version of your previous introduction.  Your investigations likely took you along a new route than what you originally intended, and therefore, you should reconsider what the main points of your project were and what questions you actually addressed.  The introduction should introduce these general research questions.  It should also still detail where your data came from.  (Include a clickable URL.)  Additionally, in the introduction, you should give a brief summary of your actual findings with no supporting details, since the supporting details will be in the results section, as well as your initial conjectures and whether those guesses were supported or refuted by the findings.  (No points taken off for your initial guesses being wrong.) </p></li>\n",
    "    \n",
    "<li><p><strong>Section 2 - Data:</strong> As before, your data should be placed in the same folder as your Jupyter Notebook File. Show the first several rows of the data in this section. Then list each of the variables in a bulleted list and explain what each variable is in detail. (It's possible you will have no new changes here.) </p></li>\n",
    "    \n",
    "<li><p><strong>Section 3 - Results:</strong> This section will include a description of your most important results with supporting summary statistics, visualizations, and analyses from other procedures.  This section should discuss and explain the results and what is learned from any figures.  This section should flow very nicely from result to result.  It should ``tell a compelling'' story from the data.  It should not hop from picture to picture in an unrelated fashion. Do not opt for \"quantity over quality\".  Choose your most important results/findings.  Along the way, discuss mention any critiques or deficienices in your results that may be caused by limitations in your data.  </p> </li>\n",
    "    \n",
    "<li><p><strong>Section 4 - Conclusion:</strong>  This section should summarize your findings one last time and bring your write-up to a close.  You should also describe what additional questions you would like to consider if you had more time and what data could be incorporated to shed more light on your topic.</p>    </li> \n",
    "<ul>-->"
   ]
  },
  {
   "cell_type": "markdown",
   "metadata": {},
   "source": [
    "<!--<table style=\"width:99%;\">\n",
    "<colgroup>\n",
    "<col width=\"70%\" />\n",
    "<col width=\"30%\" />\n",
    "</colgroup>\n",
    "<thead>\n",
    "<tr class=\"header\">\n",
    "<th>Total</th>\n",
    "<th>15 pts</th>\n",
    "</tr>\n",
    "</thead>\n",
    "<tbody>\n",
    "<tr class=\"odd\">\n",
    "<td>Cohesion, Story Telling, Flow</td>\n",
    "<td>5 pts</td>\n",
    "</tr>\n",
    "<tr class=\"even\">\n",
    "<td>Intro/Results updated per the given requirements</td>\n",
    "<td>5 pts</td>\n",
    "</tr>\n",
    "<tr class=\"odd\">\n",
    "<td>Grammar, Organiziation</td>\n",
    "<td>3 points</td>\n",
    "</tr>\n",
    "<tr class=\"even\">\n",
    "<td>Thoughtful Conclusion</td>\n",
    "<td>2 points</td>\n",
    "</tr>\n",
    "</tbody>\n",
    "</table>-->"
   ]
  }
 ],
 "metadata": {
  "kernelspec": {
   "display_name": "Python 3",
   "language": "python",
   "name": "python3"
  },
  "language_info": {
   "codemirror_mode": {
    "name": "ipython",
    "version": 3
   },
   "file_extension": ".py",
   "mimetype": "text/x-python",
   "name": "python",
   "nbconvert_exporter": "python",
   "pygments_lexer": "ipython3",
   "version": "3.7.9"
  }
 },
 "nbformat": 4,
 "nbformat_minor": 4
}
