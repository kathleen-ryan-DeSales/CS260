{
 "cells": [
  {
   "cell_type": "code",
   "execution_count": null,
   "metadata": {},
   "outputs": [],
   "source": [
    "# imports here"
   ]
  },
  {
   "cell_type": "markdown",
   "metadata": {},
   "source": [
    "---\n",
    "#### CS 260 Final Project - Spring 2022\n",
    "---\n",
    "\n",
    "# Title"
   ]
  },
  {
   "cell_type": "markdown",
   "metadata": {},
   "source": [
    "### By: Your Names \n"
   ]
  },
  {
   "cell_type": "markdown",
   "metadata": {},
   "source": [
    "---\n",
    "\n",
    "## 1. Introduction"
   ]
  },
  {
   "cell_type": "markdown",
   "metadata": {},
   "source": [
    "<span style=\"color:red\">(Though I give you a template for this sectionMake sure you read the Project Description about what types of questions are expected and what other detail, m are required in this section. **Then delete this comment before submitting your proposal.**)</span>"
   ]
  },
  {
   "cell_type": "markdown",
   "metadata": {},
   "source": [
    "For this project, our group will explore...\n",
    "\n",
    "We plan to ask these questions.  \n",
    "\n",
    "1. Question\n",
    "1. Question\n",
    "1. Question\n",
    "1. Question\n",
    "1. Question\n",
    "1. etc.\n",
    "\n",
    "<span style=\"color:red\">(Make sure you read the Project Description about what types of questions are expected and what other details are required in this section. **Then delete this comment before submitting your proposal.**)</span>"
   ]
  },
  {
   "cell_type": "markdown",
   "metadata": {},
   "source": [
    "---\n",
    "\n",
    "## 2. Data"
   ]
  },
  {
   "cell_type": "markdown",
   "metadata": {},
   "source": [
    "<span style=\"color:red\">(Though I give you a template for this section, make sure you read the Project Description about what is expected/required in this section. **Then delete this comment before submitting your proposal.**)</span>"
   ]
  },
  {
   "cell_type": "markdown",
   "metadata": {},
   "source": [
    "A direct link to the data can be found at the following website. \n",
    " * http://insideairbnb.com/get-the-data.html\n",
    " \n",
    "According the website, the data was collected via \"telephone interviews conducted February 5-8, 2015 among a national sample of 1,003 adults, 18 years of age or older, living in the continental United States.\""
   ]
  },
  {
   "cell_type": "code",
   "execution_count": 6,
   "metadata": {},
   "outputs": [
    {
     "data": {
      "text/plain": [
       "Ellipsis"
      ]
     },
     "execution_count": 6,
     "metadata": {},
     "output_type": "execute_result"
    }
   ],
   "source": [
    "... #load data into a data frame"
   ]
  },
  {
   "cell_type": "markdown",
   "metadata": {},
   "source": [
    "### 2.1 Variables Explained"
   ]
  },
  {
   "cell_type": "markdown",
   "metadata": {},
   "source": [
    "<span style=\"color:red\">(Though I give you a template for this section, make sure you read the Project Description about what is expected/required in this section. **Then delete this comment before submitting your proposal.**)</span>"
   ]
  },
  {
   "cell_type": "markdown",
   "metadata": {},
   "source": [
    "Below is a list of each variable in the dataset and its explanation.\n",
    "\n",
    "* **ID:** the ID number associated with the AirBnB listing\n",
    "* **Name:** what the listing is called on the AirBnB website\n",
    "* etc."
   ]
  },
  {
   "cell_type": "markdown",
   "metadata": {},
   "source": [
    "---\n",
    "\n",
    "## 3. Initial Analysis\n",
    "\n",
    "<span style=\"color:red\">This is the section where you begin your initial analysis.  For each project update, you will make any changes that I requested to the previous update.  Then you will fill out another sub section. **Read the details in the Project Description about what is expected for each update.**</span>\n",
    "    \n",
    "<span style=\"color:red\">During the last two weeks of class, you will rename this section \"Analysis\" and will merge the subsections to tell a cohesive story.  So this section will develop into your final report.  At that point, you will delete this red comment and the one above. </span>\n"
   ]
  },
  {
   "cell_type": "markdown",
   "metadata": {},
   "source": [
    "### 3.1 First Visualization - Due with the March 28th submission"
   ]
  },
  {
   "cell_type": "code",
   "execution_count": 7,
   "metadata": {},
   "outputs": [],
   "source": [
    "# Get to work!"
   ]
  },
  {
   "cell_type": "markdown",
   "metadata": {},
   "source": [
    "### 3.2 Project Update For April 4"
   ]
  },
  {
   "cell_type": "code",
   "execution_count": 8,
   "metadata": {},
   "outputs": [],
   "source": [
    "# Get to work!"
   ]
  },
  {
   "cell_type": "markdown",
   "metadata": {},
   "source": [
    "### 3.2 Project Update For April 11"
   ]
  },
  {
   "cell_type": "code",
   "execution_count": 9,
   "metadata": {},
   "outputs": [],
   "source": [
    "# Get to work!"
   ]
  },
  {
   "cell_type": "markdown",
   "metadata": {},
   "source": [
    "### 3.2 Project Update For April 22"
   ]
  },
  {
   "cell_type": "code",
   "execution_count": 10,
   "metadata": {},
   "outputs": [],
   "source": [
    "# Get to work!"
   ]
  },
  {
   "cell_type": "markdown",
   "metadata": {},
   "source": [
    "---\n",
    "\n",
    "## Conclusion"
   ]
  },
  {
   "cell_type": "markdown",
   "metadata": {},
   "source": [
    "<span style=\"color:red\">This section is not due until the final report.  Make sure you read the Project Description for what is required in this section.</span>\n",
    "\n",
    "<span style=\"color:red\">NOTE:  For the final report, delete this comment as well as any other red comments that exist in the document.</span>"
   ]
  }
 ],
 "metadata": {
  "kernelspec": {
   "display_name": "Python 3",
   "language": "python",
   "name": "python3"
  },
  "language_info": {
   "codemirror_mode": {
    "name": "ipython",
    "version": 3
   },
   "file_extension": ".py",
   "mimetype": "text/x-python",
   "name": "python",
   "nbconvert_exporter": "python",
   "pygments_lexer": "ipython3",
   "version": "3.7.9"
  }
 },
 "nbformat": 4,
 "nbformat_minor": 4
}
